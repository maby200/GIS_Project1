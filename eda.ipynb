{
 "cells": [
  {
   "cell_type": "code",
   "execution_count": 1,
   "metadata": {},
   "outputs": [],
   "source": [
    "import arcpy\n",
    "import csv\n",
    "import json\n",
    "import os\n",
    "import geopandas as gpd\n",
    "import matplotlib.pyplot as plt\n",
    "\n",
    "#arcpy.env.workspace = r'data'"
   ]
  },
  {
   "cell_type": "code",
   "execution_count": 2,
   "metadata": {},
   "outputs": [
    {
     "data": {
      "text/plain": [
       "'c:\\\\Users\\\\mgavil3\\\\Box\\\\CursosLSU\\\\GISProgramming4057\\\\Projects\\\\P1'"
      ]
     },
     "execution_count": 2,
     "metadata": {},
     "output_type": "execute_result"
    }
   ],
   "source": [
    "os.getcwd()"
   ]
  },
  {
   "cell_type": "code",
   "execution_count": 2,
   "metadata": {},
   "outputs": [],
   "source": [
    "with open(\"data/no_tax.json\", \"r\") as json_data:\n",
    "    study_area = json.load(json_data)\n",
    "    # study_area # as you can see, it is not printing the json_data"
   ]
  },
  {
   "cell_type": "code",
   "execution_count": 3,
   "metadata": {},
   "outputs": [],
   "source": [
    "column_names = [item[\"name\"] for item in study_area[\"meta\"][\"view\"][\"columns\"]]\n",
    "values = study_area[\"data\"]\n",
    "# gdf = gpd.GeoDataFrame(values,columns=[column_names])"
   ]
  },
  {
   "cell_type": "code",
   "execution_count": 4,
   "metadata": {},
   "outputs": [
    {
     "name": "stdout",
     "output_type": "stream",
     "text": [
      "14\n",
      "15\n"
     ]
    }
   ],
   "source": [
    "# just to make sure the length is changing\n",
    "print(len(values[0]))\n",
    "\n",
    "for row in values:\n",
    "    arcgis_geom = arcpy.FromWKT(row[8])\n",
    "    row.append(arcgis_geom)\n",
    "\n",
    "print(len(values[0]))"
   ]
  },
  {
   "cell_type": "markdown",
   "metadata": {},
   "source": [
    "## Create feature class and insert field names"
   ]
  },
  {
   "cell_type": "code",
   "execution_count": 74,
   "metadata": {},
   "outputs": [
    {
     "name": "stdout",
     "output_type": "stream",
     "text": [
      "FID\n",
      "Shape\n",
      "Id\n"
     ]
    }
   ],
   "source": [
    "workspace = r'C:\\Users\\mgavil3\\Box\\CursosLSU\\GISProgramming4057\\Projects\\P1'\n",
    "fc_name = 'no_tax_fc.shp'\n",
    "output_folder = os.path.join(workspace, 'output')\n",
    "fc_full_name = os.path.join(output_folder, fc_name)\n",
    "if arcpy.Exists(fc_full_name):\n",
    "    arcpy.management.Delete(fc_full_name)\n",
    "arcpy.management.CreateFeatureclass(\n",
    "                                    out_name = fc_name,\n",
    "                                    out_path = output_folder,\n",
    "                                    geometry_type = 'POLYGON',\n",
    "                                    spatial_reference = 4326\n",
    "                                    )\n",
    "desc = arcpy.da.Describe(fc_full_name)\n",
    "for field in desc['fields']:\n",
    "    print(field.name)"
   ]
  },
  {
   "cell_type": "code",
   "execution_count": 75,
   "metadata": {},
   "outputs": [
    {
     "data": {
      "text/plain": [
       "['sid',\n",
       " 'uid',\n",
       " 'position',\n",
       " 'created_at',\n",
       " 'created_me',\n",
       " 'updated_at',\n",
       " 'updated_me',\n",
       " 'meta',\n",
       " 'OBJECTID',\n",
       " 'uid2',\n",
       " 'Cluster_Le',\n",
       " 'Shape_STAr',\n",
       " 'Shape_STLe']"
      ]
     },
     "execution_count": 75,
     "metadata": {},
     "output_type": "execute_result"
    }
   ],
   "source": [
    "fields = study_area[\"meta\"][\"view\"][\"columns\"]\n",
    "fields = [field['name'] for field in fields if field['name'] != 'the_geom']\n",
    "field_type = ['TEXT','TEXT','LONG','LONG','TEXT','LONG','TEXT','TEXT','TEXT','TEXT','TEXT','TEXT','TEXT']# not including the geom nor the ARGIS Polygon]\n",
    "fields[1] = 'uid'\n",
    "fields[9] = 'uid2'\n",
    "fields = [field.replace(' ','_') for field in fields]\n",
    "fields = [field.replace('.','_') for field in fields]\n",
    "fields = [field[:10] if len(field)>10 else field for field in fields]\n",
    "fields"
   ]
  },
  {
   "cell_type": "code",
   "execution_count": 76,
   "metadata": {},
   "outputs": [],
   "source": [
    "for idx, field in enumerate( fields):\n",
    "    # print(field_name)\n",
    "    arcpy.management.AddField(in_table = fc_full_name, field_name = field, field_type = field_type[idx])"
   ]
  },
  {
   "cell_type": "markdown",
   "metadata": {},
   "source": [
    "## Adding data to feature class"
   ]
  },
  {
   "cell_type": "code",
   "execution_count": 77,
   "metadata": {},
   "outputs": [
    {
     "data": {
      "text/plain": [
       "14"
      ]
     },
     "execution_count": 77,
     "metadata": {},
     "output_type": "execute_result"
    }
   ],
   "source": [
    "fields.append('SHAPE@')\n",
    "len(fields)"
   ]
  },
  {
   "cell_type": "code",
   "execution_count": 122,
   "metadata": {},
   "outputs": [],
   "source": [
    "with arcpy.da.InsertCursor(fc_full_name,field_names=fields) as cursor:\n",
    "    for row in study_area['data']:\n",
    "        inserting_row = []\n",
    "        for idx2, value in enumerate(row):\n",
    "            if idx2 == 8:\n",
    "                continue\n",
    "            if (value == None):\n",
    "                value = ''\n",
    "            inserting_row.append(value)\n",
    "        cursor.insertRow(inserting_row)"
   ]
  }
 ],
 "metadata": {
  "kernelspec": {
   "display_name": "arcpyDams",
   "language": "python",
   "name": "python3"
  },
  "language_info": {
   "codemirror_mode": {
    "name": "ipython",
    "version": 3
   },
   "file_extension": ".py",
   "mimetype": "text/x-python",
   "name": "python",
   "nbconvert_exporter": "python",
   "pygments_lexer": "ipython3",
   "version": "3.11.8"
  }
 },
 "nbformat": 4,
 "nbformat_minor": 2
}
